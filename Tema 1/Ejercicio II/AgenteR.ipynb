{
 "cells": [
  {
   "attachments": {},
   "cell_type": "markdown",
   "metadata": {},
   "source": [
    "## Modelo de aspiradora \"Reflex\":\n",
    "### Dos sensores:\n",
    "- Ubicación (extender a n habitaciones seguidas)\n",
    "- Estado:\n",
    "    - Sucio\n",
    "    - Limpio\n",
    "\n",
    "### Tres acciones:\n",
    "- Aspirar\n",
    "- Mover a la izquierda\n",
    "- Mover a la derecha\n",
    "![]()"
   ]
  },
  {
   "cell_type": "code",
   "execution_count": 121,
   "metadata": {},
   "outputs": [],
   "source": [
    "#Univ.: Anarata Diaz Mario\n",
    "\n",
    "class Ambiente(object):\n",
    "    def __init__(self,inicial): # [True,True]\n",
    "        self.estado = inicial\n",
    "        self.lugar = {False:\"limpia\",True:\"sucia\"}\n",
    "        \n",
    "    def __str__(self):\n",
    "        salida = \"\\tEl estado de la casa \\n--------------------------------\\n\"\n",
    "        #Covertir una lista en una cadena\n",
    "        salida = salida + str([f\"{self.lugar[habitacion]}\" for habitacion in self.estado])\n",
    "        return salida\n",
    "    \n",
    "    def get_ambiente(self,habitacion):\n",
    "        return(self.estado[habitacion])\n",
    "    \n",
    "    def set_ambiente(self,habitacion):\n",
    "        self.estado[habitacion] = False\n"
   ]
  },
  {
   "cell_type": "code",
   "execution_count": 122,
   "metadata": {},
   "outputs": [
    {
     "name": "stdout",
     "output_type": "stream",
     "text": [
      "\tEl estado de la casa \n",
      "--------------------------------\n",
      "['limpia', 'sucia']\n"
     ]
    }
   ],
   "source": [
    "house = Ambiente([False,True])\n",
    "print(house)"
   ]
  },
  {
   "cell_type": "code",
   "execution_count": 123,
   "metadata": {},
   "outputs": [],
   "source": [
    "class ReflexAgente(object):\n",
    "    def __init__(self,habitacion):\n",
    "        self.habitacion = habitacion\n",
    "        self.paso = +1\n",
    "    \n",
    "    #LOCALIZACION DE AGENTE\n",
    "    def __str__(self):\n",
    "        return f\"Estoy en la habitación: {self.habitacion}\"\n",
    "\n",
    "    #ACCIONES\n",
    "    def percepcionAccion(self,entorno):\n",
    "        # Si esta sucia limpia\n",
    "        #Numero de habitaciones\n",
    "        n = len(entorno.estado)\n",
    "        if entorno.get_ambiente(self.habitacion):\n",
    "            entorno.set_ambiente(self.habitacion)\n",
    "        \n",
    "        #Si no esta sucia se mueve\n",
    "        else:\n",
    "            if self.habitacion + self.paso == n: # Derecha(+)\n",
    "                self.paso = -1\n",
    "                #Izquieda\n",
    "            elif self.habitacion + self.paso == -1:\n",
    "                self.paso = +1\n",
    "            self.habitacion = self.habitacion + self.paso\n",
    "        print(self)\n",
    "        print(entorno)"
   ]
  },
  {
   "cell_type": "code",
   "execution_count": 124,
   "metadata": {},
   "outputs": [
    {
     "name": "stdout",
     "output_type": "stream",
     "text": [
      "\tEl estado de la casa \n",
      "--------------------------------\n",
      "['sucia', 'sucia', 'sucia', 'limpia'] \n",
      "\n",
      "Estoy en la habitación: 0\n"
     ]
    }
   ],
   "source": [
    "casa = Ambiente([True, True, True, False])\n",
    "print(f'{casa} \\n')\n",
    "aspirar = ReflexAgente(0) #habitacion 1\n",
    "print(aspirar)"
   ]
  },
  {
   "cell_type": "code",
   "execution_count": 125,
   "metadata": {},
   "outputs": [
    {
     "name": "stdout",
     "output_type": "stream",
     "text": [
      "Estoy en la habitación: 0\n",
      "\tEl estado de la casa \n",
      "--------------------------------\n",
      "['limpia', 'sucia', 'sucia', 'limpia']\n",
      "Estoy en la habitación: 1\n",
      "\tEl estado de la casa \n",
      "--------------------------------\n",
      "['limpia', 'sucia', 'sucia', 'limpia']\n",
      "Estoy en la habitación: 1\n",
      "\tEl estado de la casa \n",
      "--------------------------------\n",
      "['limpia', 'limpia', 'sucia', 'limpia']\n",
      "Estoy en la habitación: 2\n",
      "\tEl estado de la casa \n",
      "--------------------------------\n",
      "['limpia', 'limpia', 'sucia', 'limpia']\n",
      "Estoy en la habitación: 2\n",
      "\tEl estado de la casa \n",
      "--------------------------------\n",
      "['limpia', 'limpia', 'limpia', 'limpia']\n"
     ]
    }
   ],
   "source": [
    "for i in range(5):\n",
    "    aspirar.percepcionAccion(casa)"
   ]
  }
 ],
 "metadata": {
  "kernelspec": {
   "display_name": "Python 3",
   "language": "python",
   "name": "python3"
  },
  "language_info": {
   "codemirror_mode": {
    "name": "ipython",
    "version": 3
   },
   "file_extension": ".py",
   "mimetype": "text/x-python",
   "name": "python",
   "nbconvert_exporter": "python",
   "pygments_lexer": "ipython3",
   "version": "3.10.4 (tags/v3.10.4:9d38120, Mar 23 2022, 23:13:41) [MSC v.1929 64 bit (AMD64)]"
  },
  "orig_nbformat": 4,
  "vscode": {
   "interpreter": {
    "hash": "4fc575347efa219798fdc80e72f18537acafed02733d7815abe9dda575f05009"
   }
  }
 },
 "nbformat": 4,
 "nbformat_minor": 2
}
