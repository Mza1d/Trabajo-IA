{
 "cells": [
  {
   "attachments": {},
   "cell_type": "markdown",
   "metadata": {},
   "source": [
    "## AGENTE TABLA\n",
    "- Recibe percepcion devuelve accion\n",
    "- datos:\n",
    "    - percepciones\n",
    "    - acciones"
   ]
  },
  {
   "cell_type": "code",
   "execution_count": 2,
   "metadata": {},
   "outputs": [],
   "source": [
    "#Univ.: Anarata Diaz Mario\n",
    "\n",
    "#Tabla de acciones vamos a tener por un la clave y un valor\n",
    "'''\n",
    "'moneda, A1, moneda, A3': 'servir bebida 3',\n",
    "moneda = Colocar una moneda \n",
    "A1 = pulsar boton 1\n",
    "moneda = Colocar otra moneda\n",
    "A3 = pulsar el boton a3\n",
    "servir bebida 3 = respuesta\n",
    "'''\n",
    "Acciones = {'moneda': 'pedir Codigo',\n",
    "            'moneda,A1': 'servir-bebida-1 ',\n",
    "            'moneda,A2': 'servir-bebida-2',\n",
    "            'moneda,A3': 'servir-bebida-3',\n",
    "            'moneda,A1,moneda': 'pedir-codigo',\n",
    "            'moneda,A2,moneda': 'pedir-codigo',\n",
    "            'moneda,A3,moneda': 'pedir-codigo',\n",
    "            'moneda,A1,moneda,A1': 'servir-bebida-1',\n",
    "            'moneda,A1,moneda,A2': 'servir-bebida-2',\n",
    "            'moneda,A1,moneda,A3': 'servir-bebida-3',\n",
    "            'moneda,A2,moneda,A1': 'servir-bebida-1',\n",
    "            'moneda,A2,moneda,A2': 'servir-bebida-2',\n",
    "            'moneda,A2,moneda,A3': 'servir-bebida-3',\n",
    "            'moneda,A3,moneda,A1': 'servir-bebida-1',\n",
    "            'moneda,A3,moneda,A2': 'servir-bebida-2',\n",
    "            'moneda,A3,moneda,A3': 'servir-bebida-3'}"
   ]
  },
  {
   "cell_type": "code",
   "execution_count": 3,
   "metadata": {},
   "outputs": [],
   "source": [
    "class AgenteTabla:\n",
    "    #Agente Racional\n",
    "\n",
    "    #Constructor\n",
    "    def __init__(self, acciones):\n",
    "        self.acciones = acciones\n",
    "        #Lista percepciones separada por coma\n",
    "        self.percepciones = ''\n",
    "\n",
    "    def actuar(self, percepcion, accionBasica = ''):\n",
    "        #Actua segun la percepcion devolviendo una accion\n",
    "        if not percepcion:\n",
    "            return accionBasica\n",
    "        #self.percepciones = ','.join([self.percepciones, percepcion])\n",
    "\n",
    "        # si tenemos algo guardar\n",
    "        if len(self.percepciones) != 0:\n",
    "            self.percepciones +=','\n",
    "        self.percepciones +=percepcion\n",
    "\n",
    "        #Si no encuentra se reinicia las percepciones\n",
    "        if self.percepciones in self.acciones.keys():\n",
    "            return self.acciones[self.percepciones]\n",
    "        # caso contrario\n",
    "        self.percepciones = ''\n",
    "        return accionBasica"
   ]
  },
  {
   "cell_type": "code",
   "execution_count": 4,
   "metadata": {},
   "outputs": [
    {
     "name": "stdout",
     "output_type": "stream",
     "text": [
      "----- Agente máquina expendedora ------\n",
      "pedir Codigo\n",
      "servir-bebida-1 \n"
     ]
    }
   ],
   "source": [
    "print('----- Agente máquina expendedora ------')\n",
    "expendedora = AgenteTabla(Acciones)\n",
    "#Pedir percepcion al cliente\n",
    "#percepcion = 'moneda,A1'\n",
    "percepcion = percepcion = input('Indicar percepción: ')\n",
    "#Mientras nos manda percepciones\n",
    "while percepcion:\n",
    "    accion = expendedora.actuar(percepcion, 'Esperar')\n",
    "    print(accion)\n",
    "    percepcion = percepcion = input('Indicar percepción: ')"
   ]
  },
  {
   "attachments": {},
   "cell_type": "markdown",
   "metadata": {},
   "source": [
    "## AGENTE REACTIVO SIMPLE\n",
    "- Funcion agente Reactivo Simple (percepcion) devuelve accion\n",
    "- Datos: reglas \n",
    "- estado = interpretar entrada(percepcion)\n",
    "- regla = reglas.buscar(estado)\n",
    "- accion = regla.accion\n",
    "- devolver accion"
   ]
  },
  {
   "cell_type": "code",
   "execution_count": 54,
   "metadata": {},
   "outputs": [],
   "source": [
    "reglas_ = {'moneda': 'Pedir codigo',\n",
    "        'A1': 'Servir-bebida-1',\n",
    "        'A2': 'Servir-bebida-2',\n",
    "        'A3': 'Servir-bebida-3',}"
   ]
  },
  {
   "cell_type": "code",
   "execution_count": 55,
   "metadata": {},
   "outputs": [],
   "source": [
    "class AgenteReactivo:\n",
    "    #Constructor\n",
    "    def __init__(self, reglas):\n",
    "        self.reglas = reglas\n",
    "        #Lista percepciones separada por coma\n",
    "\n",
    "    def actuar(self, percepcion, accionBasica = ''):\n",
    "        #Actua segun la percepcion devolviendo una accion\n",
    "        if not percepcion:\n",
    "            return accionBasica\n",
    "        if percepcion in self.reglas.keys():\n",
    "            return self.reglas[percepcion]\n",
    "        return accionBasica"
   ]
  },
  {
   "cell_type": "code",
   "execution_count": 56,
   "metadata": {},
   "outputs": [
    {
     "name": "stdout",
     "output_type": "stream",
     "text": [
      "----- Agente Reactivo Simple: máquina expendedora ------\n",
      "Esperar\n",
      "Servir-bebida-1\n",
      "Esperar\n",
      "Esperar\n",
      "Servir-bebida-1\n",
      "Servir-bebida-2\n",
      "Servir-bebida-3\n"
     ]
    }
   ],
   "source": [
    "print('----- Agente Reactivo Simple: máquina expendedora ------')\n",
    "expendedora = AgenteReactivo(reglas_)\n",
    "#Pedir percepcion al cliente\n",
    "#percepcion = 'moneda,A1'\n",
    "percepcion = percepcion = input('Indicar percepción: ')\n",
    "#Mientras nos manda percepciones\n",
    "while percepcion:\n",
    "    accion = expendedora.actuar(percepcion, 'Esperar')\n",
    "    print(accion)\n",
    "    percepcion = percepcion = input('Indicar percepción: ')"
   ]
  }
 ],
 "metadata": {
  "kernelspec": {
   "display_name": "Python 3",
   "language": "python",
   "name": "python3"
  },
  "language_info": {
   "codemirror_mode": {
    "name": "ipython",
    "version": 3
   },
   "file_extension": ".py",
   "mimetype": "text/x-python",
   "name": "python",
   "nbconvert_exporter": "python",
   "pygments_lexer": "ipython3",
   "version": "3.10.4 (tags/v3.10.4:9d38120, Mar 23 2022, 23:13:41) [MSC v.1929 64 bit (AMD64)]"
  },
  "orig_nbformat": 4,
  "vscode": {
   "interpreter": {
    "hash": "4fc575347efa219798fdc80e72f18537acafed02733d7815abe9dda575f05009"
   }
  }
 },
 "nbformat": 4,
 "nbformat_minor": 2
}
